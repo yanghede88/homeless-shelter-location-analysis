{
 "cells": [
  {
   "cell_type": "markdown",
   "id": "1ad2398c",
   "metadata": {},
   "source": [
    "# Identifying Optimal Locations for Homeless Shelters in San Diego"
   ]
  },
  {
   "cell_type": "markdown",
   "id": "69d172d2",
   "metadata": {},
   "source": [
    "### By: Hede Yang: A16635784 Teresa Lee: A16327096\n"
   ]
  },
  {
   "cell_type": "markdown",
   "id": "2d17bf5e",
   "metadata": {},
   "source": [
    "### Question(s) you addressed, why it is important:\n",
    "\n",
    "We are looking for the best location of building homeless shelters in San Diego. Strategically placing homeless shelters in areas with lower crime rates and within promise zones, we can create safer environments for both the homeless population and the surrounding communities. We expect to find correlations between crime rates, drug use, promise zones, and the presence of homeless populations, indicating potential areas where the establishment of shelters could have the most significant positive impact.\n",
    "\n",
    "We hypothesize that there are significant correlations between crime rates, poverty, and the presence of homeless populations. Identifying these correlations can reveal potential areas where establishing shelters and more resources could have the most significant positive impact.\n",
    "\n",
    "We aim to provide actionable insights for local governments, non-profit organizations, and other stakeholders. By optimizing shelter placement, we can enhance public safety, reduce homelessness, and improve community well-being.\n",
    "\n",
    "Throughout this project, we will aim to identify best locations to built homeless shelters and see if our analysis matches with what the government is currently working towards. "
   ]
  },
  {
   "cell_type": "markdown",
   "id": "00022806",
   "metadata": {},
   "source": [
    "## Background and literature:\n",
    "\n",
    "The article from CBS8 reports findings by the San Diego County District Attorney's Office showing that homeless individuals in San Diego are significantly more likely to be involved in crimes, both as victims and perpetrators, compared to the rest of the population. This context directly informs our research question on identifying the best areas to build homeless shelters, emphasizing the need for shelters as part of a broader strategy to reduce crime and improve safety in homeless populations.\n",
    "https://www.cbs8.com/article/news/crime/da-homeless-more-likely-crime-victims-and-perpetrators-sd-county/509-c01ca175-004b-483e-93b1-1b2c66afd5f1\n",
    "\n",
    "\n",
    "This is a page with pre-made maps on the homelessness issues in San Diego. The maps are created for people to do analysis. We can use this page to help compare with the maps we get from ArcGIS (https://storymaps.arcgis.com/stories/53ae35abaf7746298ec713e750921078)\n",
    "\n",
    "This article talks about the current homeless population issues in San Diego. It is also interesting to note that the homeless population in downtown actually hit a two-year low recently as there has been efforts to enforce the city’s camping ban and push for new shelters. We hope that with more analysis on this will help us figure out best places to set up new shelters to even further minimize the homeless population. (https://www.sandiegouniontribune.com/news/homelessness/story/2023-12-11/the-homeless-population-downtown-just-hit-a-two-year-low-thats-good-and-bad-news)\n",
    "\n"
   ]
  },
  {
   "cell_type": "markdown",
   "id": "c09fd24e",
   "metadata": {},
   "source": [
    "## Python libraries or ArcGIS modules you plan to use and why:\n",
    "We are planning on using the ArcGIS API for Python. The ArcGIS API for Python provides powerful spatial analysis capabilities and integration with ArcGIS Online. \n",
    "The ArcGIS API for Python allows us to easily access various geospatial datasets hosted on ArcGIS Online, including crime rate data, promise zone boundaries, and other relevant layers such as population density, transportation networks, and land use.\n",
    "Spatial Analysis: With the ArcGIS API for Python, we can perform spatial analysis to identify suitable locations for homeless shelters. This may include proximity analysis to identify areas with low crime rates and within promise zones, as well as other spatial operations such as overlay analysis to identify areas with the highest concentration of homeless individuals.\n",
    "Mapping and Visualization: The API provides capabilities for creating interactive maps and visualizations, allowing us to communicate our findings effectively. We can create thematic maps to visualize crime rates, promise zones, and potential shelter locations, providing valuable insights for decision-makers.\n",
    "Integration with ArcGIS Online: The ArcGIS API for Python seamlessly integrates with ArcGIS Online, allowing us to publish and share our analysis results as web maps and applications. This facilitates collaboration and decision-making among stakeholders involved in addressing homelessness in San Diego.\n"
   ]
  },
  {
   "cell_type": "code",
   "execution_count": 2,
   "id": "03b9c4f9",
   "metadata": {},
   "outputs": [],
   "source": [
    "import warnings\n",
    "warnings.filterwarnings(\"ignore\")\n",
    "\n",
    "import arcgis\n",
    "from arcgis.gis import GIS\n",
    "from arcgis.raster.functions import *\n",
    "from ipywidgets import *\n",
    "from IPython.display import display\n",
    "\n",
    "# Importing graphviz would be useful as we trace layer operations\n",
    "import graphviz\n",
    "\n",
    "import pandas as pd\n",
    "from arcgis.geocoding import Geocoder, get_geocoders, geocode\n",
    "import geopandas\n",
    "from arcgis.geometry import Point, Polyline, Polygon\n",
    "\n",
    "\n",
    "from arcgis.geoenrichment import *\n",
    "from arcgis.features.enrich_data import enrich_layer\n",
    "from arcgis.features.analyze_patterns import find_hot_spots\n",
    "from arcgis.features.manage_data import overlay_layers\n",
    "\n",
    "import seaborn as sns\n",
    "import matplotlib.pyplot as plt\n",
    "\n"
   ]
  },
  {
   "cell_type": "markdown",
   "id": "6478ebbc",
   "metadata": {},
   "source": [
    "## Connect to GIS"
   ]
  },
  {
   "cell_type": "code",
   "execution_count": 3,
   "id": "ffabaebb",
   "metadata": {},
   "outputs": [
    {
     "name": "stdout",
     "output_type": "stream",
     "text": [
      "Enter username: dsc170wi24_52\n",
      "Enter password: ········\n"
     ]
    }
   ],
   "source": [
    "import getpass\n",
    "username = input('Enter username: ')\n",
    "password = getpass.getpass(\"Enter password: \")\n",
    "agol = GIS(username=username, password=password)"
   ]
  },
  {
   "cell_type": "markdown",
   "id": "5e9561de",
   "metadata": {},
   "source": [
    "## Data Sources: \n",
    "Point data of all encampment-categorized: \n",
    "https://ucsdonline.maps.arcgis.com/home/search.html?restrict=false&sortField=relevance&sortOrder=desc&searchTerm=07df5d38c49a43f69e15e44bd9c4954f#content\n",
    "\n",
    "\n",
    "Housing elements for San Deigo: \n",
    "https://hhubsandiego-ucsdonline.hub.arcgis.com/datasets/205e4290da9e49049529644b2178fbb9_0/explore?location=32.952571%2C-117.066813%2C9.56\n",
    "\n",
    "\n",
    "San Diego crime rate: \n",
    "https://opendata.sandag.org/ARJIS/ARJIS-Public-Crime-Data/3qn6-ugjx/about_data\n",
    "\n",
    "\n",
    "Shelter location: \n",
    "https://www.sandiego.gov/homelessness-strategies-and-solutions/services/shelter\n",
    "(need to geo encode the address) \n"
   ]
  },
  {
   "cell_type": "markdown",
   "id": "f6a3ed52",
   "metadata": {},
   "source": [
    "## Data cleaning you have done: \n",
    "We imported San Diego (SD) crime data into ArcGIS Online and converted it from a GeoJSON file into a feature layer. We geoencoded the existing homeless shelters and upload it on ArcGIS Online. "
   ]
  },
  {
   "cell_type": "markdown",
   "id": "c1f2e37f",
   "metadata": {},
   "source": [
    "### Import the feature layers we've uploaded to agol."
   ]
  },
  {
   "cell_type": "code",
   "execution_count": 4,
   "id": "197e65c4",
   "metadata": {},
   "outputs": [],
   "source": [
    "homeless_mentioned = agol.content.get('07df5d38c49a43f69e15e44bd9c4954f')\n",
    "sd_crime = agol.content.get('e54740e304f647889d9b86436b70dba5')\n",
    "# free_food = agol.content.get('a995c4fc08024d30bcf98d12fb326b02')\n",
    "# crime_rate_hotspots= agol.content.get('0e79d2dde8614860af57df696965c980')\n",
    "homeless_shelter = agol.content.get('e884228df2a040f7954e956f0367c04f')\n",
    "# and poverty data used for enrichment that is loaded later on\n"
   ]
  },
  {
   "cell_type": "markdown",
   "id": "f5b7f4e8",
   "metadata": {},
   "source": [
    "## Descriptive statistics for the data: "
   ]
  },
  {
   "cell_type": "markdown",
   "id": "d72c04d8",
   "metadata": {},
   "source": [
    "### Lets visualize all the homeless mentioned in SD."
   ]
  },
  {
   "cell_type": "code",
   "execution_count": 5,
   "id": "8d3ecdfe",
   "metadata": {},
   "outputs": [
    {
     "data": {
      "application/vnd.jupyter.widget-view+json": {
       "model_id": "ab94cf564f834c4e8dc8e540150557b0",
       "version_major": 2,
       "version_minor": 0
      },
      "text/plain": [
       "MapView(layout=Layout(height='400px', width='100%'))"
      ]
     },
     "metadata": {},
     "output_type": "display_data"
    },
    {
     "data": {
      "text/html": [
       "<div class=\"map-static-img-preview-5e5db70c-d3bc-40f6-8835-41b28db1df22\"><img src=\"\"></img></div>"
      ],
      "text/plain": [
       "<IPython.core.display.HTML object>"
      ]
     },
     "metadata": {},
     "output_type": "display_data"
    },
    {
     "data": {
      "text/html": [
       "<div class=\"map-html-embed-preview-5e5db70c-d3bc-40f6-8835-41b28db1df22\"></div>"
      ],
      "text/plain": [
       "<IPython.core.display.HTML object>"
      ]
     },
     "metadata": {},
     "output_type": "display_data"
    }
   ],
   "source": [
    "map1 = agol.map('San Diego')\n",
    "map1.add_layer(homeless_mentioned)  \n",
    "map1.add_layer(homeless_mentioned)\n",
    "map1"
   ]
  },
  {
   "cell_type": "markdown",
   "id": "9fa99034",
   "metadata": {},
   "source": [
    "### Lets also visualize all the crimes reported in SD."
   ]
  },
  {
   "cell_type": "code",
   "execution_count": 6,
   "id": "b17f493c",
   "metadata": {},
   "outputs": [
    {
     "data": {
      "application/vnd.jupyter.widget-view+json": {
       "model_id": "ef579ada1e1d43c2a8cba527b51a2a8e",
       "version_major": 2,
       "version_minor": 0
      },
      "text/plain": [
       "MapView(layout=Layout(height='400px', width='100%'))"
      ]
     },
     "metadata": {},
     "output_type": "display_data"
    },
    {
     "data": {
      "text/html": [
       "<div class=\"map-static-img-preview-67ee93f3-e6d9-4a1c-8821-0b25d2421b1e\"><img src=\"\"></img></div>"
      ],
      "text/plain": [
       "<IPython.core.display.HTML object>"
      ]
     },
     "metadata": {},
     "output_type": "display_data"
    },
    {
     "data": {
      "text/html": [
       "<div class=\"map-html-embed-preview-67ee93f3-e6d9-4a1c-8821-0b25d2421b1e\"></div>"
      ],
      "text/plain": [
       "<IPython.core.display.HTML object>"
      ]
     },
     "metadata": {},
     "output_type": "display_data"
    }
   ],
   "source": [
    "map2 = agol.map('San Diego')\n",
    "map2.add_layer(sd_crime)  \n",
    "map2.add_layer(sd_crime)\n",
    "map2\n"
   ]
  },
  {
   "cell_type": "markdown",
   "id": "b64f476d",
   "metadata": {},
   "source": [
    "### It is difficult to discern spatial patterns with so many points on the map. To make sense of so many homeless and crime data, we will map them using hot spot analysis. This is help us identify areas of statistically significant clusters."
   ]
  },
  {
   "cell_type": "code",
   "execution_count": 7,
   "id": "8d7e34ea",
   "metadata": {},
   "outputs": [
    {
     "name": "stderr",
     "output_type": "stream",
     "text": [
      "WARNING 001605: Distances for Geographic Coordinates (degrees, minutes, seconds) are analyzed using Chordal Distances in meters.\n",
      "{\"cost\": 29.537}\n"
     ]
    }
   ],
   "source": [
    "homeless_hot_spots = find_hot_spots(homeless_mentioned,\n",
    "                                 output_name='Homeless_Hot_Spots123')"
   ]
  },
  {
   "cell_type": "code",
   "execution_count": 8,
   "id": "a0427818",
   "metadata": {
    "scrolled": true
   },
   "outputs": [
    {
     "data": {
      "text/html": [
       "<div class=\"item_container\" style=\"height: auto; overflow: hidden; border: 1px solid #cfcfcf; border-radius: 2px; background: #f6fafa; line-height: 1.21429em; padding: 10px;\">\n",
       "                    <div class=\"item_left\" style=\"width: 210px; float: left;\">\n",
       "                       <a href='https://UCSDOnline.maps.arcgis.com/home/item.html?id=e42808f479aa4705aa997425978e8b24' target='_blank'>\n",
       "                        <img src='http://static.arcgis.com/images/desktopapp.png' class=\"itemThumbnail\">\n",
       "                       </a>\n",
       "                    </div>\n",
       "\n",
       "                    <div class=\"item_right\"     style=\"float: none; width: auto; overflow: hidden;\">\n",
       "                        <a href='https://UCSDOnline.maps.arcgis.com/home/item.html?id=e42808f479aa4705aa997425978e8b24' target='_blank'><b>Homeless_Hot_Spots123</b>\n",
       "                        </a>\n",
       "                        <br/><img src='https://UCSDOnline.maps.arcgis.com/home/js/jsapi/esri/css/images/item_type_icons/featureshosted16.png' style=\"vertical-align:middle;\" width=16 height=16>Feature Layer Collection by dsc170wi24_52\n",
       "                        <br/>Last Modified: March 21, 2024\n",
       "                        <br/>0 comments, 0 views\n",
       "                    </div>\n",
       "                </div>\n",
       "                "
      ],
      "text/plain": [
       "<Item title:\"Homeless_Hot_Spots123\" type:Feature Layer Collection owner:dsc170wi24_52>"
      ]
     },
     "execution_count": 8,
     "metadata": {},
     "output_type": "execute_result"
    }
   ],
   "source": [
    "homeless_hot_spots"
   ]
  },
  {
   "cell_type": "markdown",
   "id": "17845594",
   "metadata": {},
   "source": [
    "## Analysis:"
   ]
  },
  {
   "cell_type": "markdown",
   "id": "a4b744f2",
   "metadata": {},
   "source": [
    "### Although there are homeless everywhere all over the map, running hot spot analysis helps us find locations with statistically significant clusters and we can see there is indeed a specific region with a lot more homeless."
   ]
  },
  {
   "cell_type": "code",
   "execution_count": 9,
   "id": "770f3820",
   "metadata": {},
   "outputs": [
    {
     "data": {
      "application/vnd.jupyter.widget-view+json": {
       "model_id": "0523e11b2031455b80ea6d17d56cce6d",
       "version_major": 2,
       "version_minor": 0
      },
      "text/plain": [
       "MapView(layout=Layout(height='400px', width='100%'))"
      ]
     },
     "metadata": {},
     "output_type": "display_data"
    },
    {
     "data": {
      "text/html": [
       "<div class=\"map-static-img-preview-47d0a731-3695-4f05-98ef-167c2495755c\"><img src=\"\"></img></div>"
      ],
      "text/plain": [
       "<IPython.core.display.HTML object>"
      ]
     },
     "metadata": {},
     "output_type": "display_data"
    },
    {
     "data": {
      "text/html": [
       "<div class=\"map-html-embed-preview-47d0a731-3695-4f05-98ef-167c2495755c\"></div>"
      ],
      "text/plain": [
       "<IPython.core.display.HTML object>"
      ]
     },
     "metadata": {},
     "output_type": "display_data"
    }
   ],
   "source": [
    "homeless_spots_map = agol.map('San Diego')\n",
    "homeless_spots_map.add_layer(homeless_hot_spots)\n",
    "homeless_spots_map"
   ]
  },
  {
   "cell_type": "markdown",
   "id": "fd0bd3db",
   "metadata": {},
   "source": [
    "### Let's also create a hot spot map of crime to compare to the homeless hot spot map"
   ]
  },
  {
   "cell_type": "code",
   "execution_count": 10,
   "id": "b2b656a4",
   "metadata": {},
   "outputs": [
    {
     "name": "stderr",
     "output_type": "stream",
     "text": [
      "WARNING 001605: Distances for Geographic Coordinates (degrees, minutes, seconds) are analyzed using Chordal Distances in meters.\n",
      "WARNING 001605: Distances for Geographic Coordinates (degrees, minutes, seconds) are analyzed using Chordal Distances in meters.\n",
      "{\"cost\": 49.358}\n"
     ]
    }
   ],
   "source": [
    "crime_hot_spots = find_hot_spots(sd_crime,\n",
    "                                         output_name='crime_hot_spot22',\n",
    "                                         aggregation_polygon_layer=homeless_hot_spots)"
   ]
  },
  {
   "cell_type": "code",
   "execution_count": 11,
   "id": "e98ef655",
   "metadata": {},
   "outputs": [
    {
     "data": {
      "text/html": [
       "<div class=\"item_container\" style=\"height: auto; overflow: hidden; border: 1px solid #cfcfcf; border-radius: 2px; background: #f6fafa; line-height: 1.21429em; padding: 10px;\">\n",
       "                    <div class=\"item_left\" style=\"width: 210px; float: left;\">\n",
       "                       <a href='https://UCSDOnline.maps.arcgis.com/home/item.html?id=df0d8c87a86241f7844d3c1ef931ac79' target='_blank'>\n",
       "                        <img src='http://static.arcgis.com/images/desktopapp.png' class=\"itemThumbnail\">\n",
       "                       </a>\n",
       "                    </div>\n",
       "\n",
       "                    <div class=\"item_right\"     style=\"float: none; width: auto; overflow: hidden;\">\n",
       "                        <a href='https://UCSDOnline.maps.arcgis.com/home/item.html?id=df0d8c87a86241f7844d3c1ef931ac79' target='_blank'><b>crime_hot_spot22</b>\n",
       "                        </a>\n",
       "                        <br/><img src='https://UCSDOnline.maps.arcgis.com/home/js/jsapi/esri/css/images/item_type_icons/featureshosted16.png' style=\"vertical-align:middle;\" width=16 height=16>Feature Layer Collection by dsc170wi24_52\n",
       "                        <br/>Last Modified: March 21, 2024\n",
       "                        <br/>0 comments, 0 views\n",
       "                    </div>\n",
       "                </div>\n",
       "                "
      ],
      "text/plain": [
       "<Item title:\"crime_hot_spot22\" type:Feature Layer Collection owner:dsc170wi24_52>"
      ]
     },
     "execution_count": 11,
     "metadata": {},
     "output_type": "execute_result"
    }
   ],
   "source": [
    "crime_hot_spots"
   ]
  },
  {
   "cell_type": "code",
   "execution_count": 12,
   "id": "38d37f8c",
   "metadata": {},
   "outputs": [],
   "source": [
    "crime_hot_spots_lyr = crime_hot_spots.layers[0]"
   ]
  },
  {
   "cell_type": "markdown",
   "id": "ddcce729",
   "metadata": {},
   "source": [
    "### We also run a hot spot analysis on crime and can see that there is overlap in the hotspot area for homeless and crime."
   ]
  },
  {
   "cell_type": "code",
   "execution_count": 13,
   "id": "792f6c13",
   "metadata": {},
   "outputs": [
    {
     "data": {
      "application/vnd.jupyter.widget-view+json": {
       "model_id": "f278b198756f4b9db56bf3e9a66ed3c2",
       "version_major": 2,
       "version_minor": 0
      },
      "text/plain": [
       "MapView(layout=Layout(height='400px', width='100%'))"
      ]
     },
     "metadata": {},
     "output_type": "display_data"
    },
    {
     "data": {
      "text/html": [
       "<div class=\"map-static-img-preview-960f723b-6d53-4cab-81c4-b04348d0ebbb\"><img src=\"\"></img></div>"
      ],
      "text/plain": [
       "<IPython.core.display.HTML object>"
      ]
     },
     "metadata": {},
     "output_type": "display_data"
    },
    {
     "data": {
      "text/html": [
       "<div class=\"map-html-embed-preview-960f723b-6d53-4cab-81c4-b04348d0ebbb\"></div>"
      ],
      "text/plain": [
       "<IPython.core.display.HTML object>"
      ]
     },
     "metadata": {},
     "output_type": "display_data"
    }
   ],
   "source": [
    "crime_spots_map =  agol.map('San Diego')\n",
    "crime_spots_map.add_layer(crime_hot_spots_lyr)\n",
    "crime_spots_map"
   ]
  },
  {
   "cell_type": "markdown",
   "id": "ca94899b",
   "metadata": {},
   "source": [
    "### We will now get poverty data for each of the polygon grids in the  crime hot spot analysis layer by enriching the data"
   ]
  },
  {
   "cell_type": "markdown",
   "id": "f58fa3e7",
   "metadata": {},
   "source": [
    "We will add analysis variables, i.e, poverty, to our layer. This will enrich our layer with the poverty data. "
   ]
  },
  {
   "cell_type": "code",
   "execution_count": 15,
   "id": "e77fcbeb",
   "metadata": {},
   "outputs": [
    {
     "name": "stderr",
     "output_type": "stream",
     "text": [
      "{\"messageCode\": \"AO_100047\", \"message\": \"Enrichment may not be available for some features.\"}\n",
      "{\"messageCode\": \"AO_100288\", \"message\": \"Unable to detect the country for one or more features.\"}\n",
      "{\"messageCode\": \"AO_100047\", \"message\": \"Enrichment may not be available for some features.\"}\n",
      "{\"messageCode\": \"AO_100000\", \"message\": \"Country aggregation mode supports only global data collections. Following data collections couldn't be processed: 'households'\"}\n",
      "{\"cost\": -1}\n"
     ]
    }
   ],
   "source": [
    "poverty_enrich= enrich_layer(crime_hot_spots, \n",
    "                              analysis_variables=[\"households.ACSHHBPOV\"], \n",
    "                              output_name='PovertyDataEnrichedLayer_w2411123')"
   ]
  },
  {
   "cell_type": "code",
   "execution_count": 16,
   "id": "f02c0fb4",
   "metadata": {},
   "outputs": [],
   "source": [
    "poverty_enrich_lyr = poverty_enrich.layers[0]"
   ]
  },
  {
   "cell_type": "markdown",
   "id": "d2739619",
   "metadata": {},
   "source": [
    "### Create a hot spot map of poverty"
   ]
  },
  {
   "cell_type": "markdown",
   "id": "b5477a39",
   "metadata": {},
   "source": [
    "#### We can find hot spots of the enriched_layer by assigning the field name of the analysis variable to parameter 'analysis_field'."
   ]
  },
  {
   "cell_type": "code",
   "execution_count": 17,
   "id": "71f9544d",
   "metadata": {},
   "outputs": [
    {
     "name": "stderr",
     "output_type": "stream",
     "text": [
      "WARNING 001605: Distances for Geographic Coordinates (degrees, minutes, seconds) are analyzed using Chordal Distances in meters.\n",
      "{\"messageCode\": \"AO_642\", \"message\": \"Problems reading 4 of 1578 total records.\", \"params\": {\"badNum\": 4, \"totalNum\": 1578}}\n",
      "{\"messageCode\": \"AO_848\", \"message\": \"Features with bad records (only includes first 30): OBJECTID = 686, 938, 980, 1578.\", \"params\": {\"ObjIDs\": \"OBJECTID\", \"IDnums\": \"686, 938, 980, 1578\"}}\n",
      "{\"cost\": 1.578}\n"
     ]
    },
    {
     "data": {
      "text/html": [
       "<div class=\"item_container\" style=\"height: auto; overflow: hidden; border: 1px solid #cfcfcf; border-radius: 2px; background: #f6fafa; line-height: 1.21429em; padding: 10px;\">\n",
       "                    <div class=\"item_left\" style=\"width: 210px; float: left;\">\n",
       "                       <a href='https://UCSDOnline.maps.arcgis.com/home/item.html?id=dcd200c50db247119beddad35f842d78' target='_blank'>\n",
       "                        <img src='http://static.arcgis.com/images/desktopapp.png' class=\"itemThumbnail\">\n",
       "                       </a>\n",
       "                    </div>\n",
       "\n",
       "                    <div class=\"item_right\"     style=\"float: none; width: auto; overflow: hidden;\">\n",
       "                        <a href='https://UCSDOnline.maps.arcgis.com/home/item.html?id=dcd200c50db247119beddad35f842d78' target='_blank'><b>povertyEnrichedHotSpots_w24123</b>\n",
       "                        </a>\n",
       "                        <br/><img src='https://UCSDOnline.maps.arcgis.com/home/js/jsapi/esri/css/images/item_type_icons/featureshosted16.png' style=\"vertical-align:middle;\" width=16 height=16>Feature Layer Collection by dsc170wi24_52\n",
       "                        <br/>Last Modified: March 21, 2024\n",
       "                        <br/>0 comments, 0 views\n",
       "                    </div>\n",
       "                </div>\n",
       "                "
      ],
      "text/plain": [
       "<Item title:\"povertyEnrichedHotSpots_w24123\" type:Feature Layer Collection owner:dsc170wi24_52>"
      ]
     },
     "execution_count": 17,
     "metadata": {},
     "output_type": "execute_result"
    }
   ],
   "source": [
    "poverty_data_hot_spots = find_hot_spots(poverty_enrich_lyr,\n",
    "                                        analysis_field='ACSHHBPOV',\n",
    "                                        output_name='povertyEnrichedHotSpots_w24123')\n",
    "poverty_data_hot_spots"
   ]
  },
  {
   "cell_type": "code",
   "execution_count": 18,
   "id": "5888e597",
   "metadata": {},
   "outputs": [
    {
     "data": {
      "application/vnd.jupyter.widget-view+json": {
       "model_id": "49c1cf79836043228da3932b48e3f610",
       "version_major": 2,
       "version_minor": 0
      },
      "text/plain": [
       "MapView(layout=Layout(height='400px', width='100%'))"
      ]
     },
     "metadata": {},
     "output_type": "display_data"
    },
    {
     "data": {
      "text/html": [
       "<div class=\"map-static-img-preview-d0d6aa81-b492-435d-8020-37d25a0e843c\"><img src=\"\"></img></div>"
      ],
      "text/plain": [
       "<IPython.core.display.HTML object>"
      ]
     },
     "metadata": {},
     "output_type": "display_data"
    },
    {
     "data": {
      "text/html": [
       "<div class=\"map-html-embed-preview-d0d6aa81-b492-435d-8020-37d25a0e843c\"></div>"
      ],
      "text/plain": [
       "<IPython.core.display.HTML object>"
      ]
     },
     "metadata": {},
     "output_type": "display_data"
    }
   ],
   "source": [
    "poverty_data_hot_spots_map = agol.map('San Diego')\n",
    "poverty_data_hot_spots_map.add_layer(poverty_data_hot_spots)\n",
    "poverty_data_hot_spots_map"
   ]
  },
  {
   "cell_type": "markdown",
   "id": "b3320120",
   "metadata": {},
   "source": [
    "### The red areas are statistically significant hot spots for poverty."
   ]
  },
  {
   "cell_type": "markdown",
   "id": "4678e68a",
   "metadata": {},
   "source": [
    "### We will now filter the three variables, i.e., homeless, crime, and poverty in order to get statistically significant hot spots. "
   ]
  },
  {
   "cell_type": "markdown",
   "id": "4c8f72c0",
   "metadata": {},
   "source": [
    "We will assign the Gi_Bin attribute a value of 3 in order to get statistically significant hot spots at 99 percent confidence level."
   ]
  },
  {
   "cell_type": "code",
   "execution_count": 19,
   "id": "8aa80b3d",
   "metadata": {},
   "outputs": [],
   "source": [
    "homelesslayer = homeless_hot_spots.layers[0]\n",
    "homelesslayer.filter = \"Gi_Bin = 3\""
   ]
  },
  {
   "cell_type": "code",
   "execution_count": 20,
   "id": "ddf13de2",
   "metadata": {},
   "outputs": [],
   "source": [
    "crimelayer = crime_hot_spots.layers[0]\n",
    "crimelayer.filter = \"Gi_Bin = 3\""
   ]
  },
  {
   "cell_type": "code",
   "execution_count": 21,
   "id": "48f5a5fc",
   "metadata": {},
   "outputs": [],
   "source": [
    "povertylayer = poverty_data_hot_spots.layers[0]\n",
    "povertylayer.filter = \"Gi_Bin = 3\""
   ]
  },
  {
   "cell_type": "markdown",
   "id": "d4be4e55",
   "metadata": {},
   "source": [
    "We will use the `overlay_layers` to combine the three layers (homeless, crime, and poverty) to find the hotspots with the most of these to see which areas we should be allocating more resources."
   ]
  },
  {
   "cell_type": "markdown",
   "id": "1d9e121c",
   "metadata": {},
   "source": [
    "### We will find the intersection of homeless and crime"
   ]
  },
  {
   "cell_type": "code",
   "execution_count": 22,
   "id": "c536b768",
   "metadata": {},
   "outputs": [
    {
     "name": "stderr",
     "output_type": "stream",
     "text": [
      "{\"cost\": 0.236}\n"
     ]
    }
   ],
   "source": [
    "intersect_of_homeless_crime = overlay_layers(homelesslayer,\n",
    "                                           crimelayer,\n",
    "                                           tolerance=0,\n",
    "                                           context={},\n",
    "                                           output_name=\"IntersectOfHomelessCrime_w241123\")"
   ]
  },
  {
   "cell_type": "code",
   "execution_count": 23,
   "id": "d4f5a59e",
   "metadata": {},
   "outputs": [
    {
     "data": {
      "text/html": [
       "<div class=\"item_container\" style=\"height: auto; overflow: hidden; border: 1px solid #cfcfcf; border-radius: 2px; background: #f6fafa; line-height: 1.21429em; padding: 10px;\">\n",
       "                    <div class=\"item_left\" style=\"width: 210px; float: left;\">\n",
       "                       <a href='https://UCSDOnline.maps.arcgis.com/home/item.html?id=d7b63de499d1469a95b9efec2742ba6c' target='_blank'>\n",
       "                        <img src='http://static.arcgis.com/images/desktopapp.png' class=\"itemThumbnail\">\n",
       "                       </a>\n",
       "                    </div>\n",
       "\n",
       "                    <div class=\"item_right\"     style=\"float: none; width: auto; overflow: hidden;\">\n",
       "                        <a href='https://UCSDOnline.maps.arcgis.com/home/item.html?id=d7b63de499d1469a95b9efec2742ba6c' target='_blank'><b>IntersectOfHomelessCrime_w241123</b>\n",
       "                        </a>\n",
       "                        <br/><img src='https://UCSDOnline.maps.arcgis.com/home/js/jsapi/esri/css/images/item_type_icons/featureshosted16.png' style=\"vertical-align:middle;\" width=16 height=16>Feature Layer Collection by dsc170wi24_52\n",
       "                        <br/>Last Modified: March 21, 2024\n",
       "                        <br/>0 comments, 0 views\n",
       "                    </div>\n",
       "                </div>\n",
       "                "
      ],
      "text/plain": [
       "<Item title:\"IntersectOfHomelessCrime_w241123\" type:Feature Layer Collection owner:dsc170wi24_52>"
      ]
     },
     "execution_count": 23,
     "metadata": {},
     "output_type": "execute_result"
    }
   ],
   "source": [
    "intersect_of_homeless_crime"
   ]
  },
  {
   "cell_type": "markdown",
   "id": "62bdfd21",
   "metadata": {},
   "source": [
    "### Now we will overlay all the homeless, crime, and poverty hot spot maps to find where they overlap"
   ]
  },
  {
   "cell_type": "code",
   "execution_count": 24,
   "id": "6cb01eda",
   "metadata": {},
   "outputs": [
    {
     "name": "stderr",
     "output_type": "stream",
     "text": [
      "{\"cost\": 0.264}\n"
     ]
    }
   ],
   "source": [
    "intersect_home_cri_pov= overlay_layers(intersect_of_homeless_crime,\n",
    "                                       poverty_data_hot_spots,\n",
    "                                       output_name=\"intersectOfHomelessCrimePoverty_w241123\")"
   ]
  },
  {
   "cell_type": "code",
   "execution_count": 25,
   "id": "c2a0f4d0",
   "metadata": {},
   "outputs": [
    {
     "data": {
      "text/html": [
       "<div class=\"item_container\" style=\"height: auto; overflow: hidden; border: 1px solid #cfcfcf; border-radius: 2px; background: #f6fafa; line-height: 1.21429em; padding: 10px;\">\n",
       "                    <div class=\"item_left\" style=\"width: 210px; float: left;\">\n",
       "                       <a href='https://UCSDOnline.maps.arcgis.com/home/item.html?id=912ea327b30b4fba93f41c0066bb145d' target='_blank'>\n",
       "                        <img src='http://static.arcgis.com/images/desktopapp.png' class=\"itemThumbnail\">\n",
       "                       </a>\n",
       "                    </div>\n",
       "\n",
       "                    <div class=\"item_right\"     style=\"float: none; width: auto; overflow: hidden;\">\n",
       "                        <a href='https://UCSDOnline.maps.arcgis.com/home/item.html?id=912ea327b30b4fba93f41c0066bb145d' target='_blank'><b>intersectOfHomelessCrimePoverty_w241123</b>\n",
       "                        </a>\n",
       "                        <br/><img src='https://UCSDOnline.maps.arcgis.com/home/js/jsapi/esri/css/images/item_type_icons/featureshosted16.png' style=\"vertical-align:middle;\" width=16 height=16>Feature Layer Collection by dsc170wi24_52\n",
       "                        <br/>Last Modified: March 21, 2024\n",
       "                        <br/>0 comments, 0 views\n",
       "                    </div>\n",
       "                </div>\n",
       "                "
      ],
      "text/plain": [
       "<Item title:\"intersectOfHomelessCrimePoverty_w241123\" type:Feature Layer Collection owner:dsc170wi24_52>"
      ]
     },
     "execution_count": 25,
     "metadata": {},
     "output_type": "execute_result"
    }
   ],
   "source": [
    "intersect_home_cri_pov"
   ]
  },
  {
   "cell_type": "markdown",
   "id": "f6b53927",
   "metadata": {},
   "source": [
    "## Summary of products and results:\n"
   ]
  },
  {
   "cell_type": "markdown",
   "id": "39325451",
   "metadata": {},
   "source": [
    " And load all the intersections onto a map. The blue area identified through our analysis, representing the overlap between homelessness, crime, and poverty, signifies a critical zone where interventions are most needed. This area, defined by its statistically significant hotspots, highlights where the construction of additional shelters and the provision of more treatment opportunities could have the most substantial impact. By targeting this zone, efforts can be more strategically directed to mitigate the factors contributing to crime and improve the quality of life for those experiencing homelessness, aligning with both our project's findings and broader social objectives."
   ]
  },
  {
   "cell_type": "code",
   "execution_count": 26,
   "id": "c0072213",
   "metadata": {
    "scrolled": true
   },
   "outputs": [
    {
     "data": {
      "application/vnd.jupyter.widget-view+json": {
       "model_id": "0d7d4d7877774c5584db4ce96cea5d9d",
       "version_major": 2,
       "version_minor": 0
      },
      "text/plain": [
       "MapView(layout=Layout(height='400px', width='100%'))"
      ]
     },
     "metadata": {},
     "output_type": "display_data"
    },
    {
     "data": {
      "text/html": [
       "<div class=\"map-static-img-preview-f518408e-6fa9-45d8-9698-c6ed3639537d\"><img src=\"\"></img></div>"
      ],
      "text/plain": [
       "<IPython.core.display.HTML object>"
      ]
     },
     "metadata": {},
     "output_type": "display_data"
    },
    {
     "data": {
      "text/html": [
       "<div class=\"map-html-embed-preview-f518408e-6fa9-45d8-9698-c6ed3639537d\"></div>"
      ],
      "text/plain": [
       "<IPython.core.display.HTML object>"
      ]
     },
     "metadata": {},
     "output_type": "display_data"
    }
   ],
   "source": [
    "intersected_map = agol.map('San Diego')\n",
    "intersected_map.add_layer(intersect_home_cri_pov)\n",
    "intersected_map"
   ]
  },
  {
   "cell_type": "markdown",
   "id": "3e97a45d",
   "metadata": {},
   "source": [
    "## Discussion: \n",
    "Our project applied GIS technology to explore the connections between homelessness, crime, and poverty, focusing on visualizing these relationships through hotspot mapping. This approach highlighted significant overlaps between areas of high poverty and homelessness, a finding consistent with existing literature suggesting that these factors are closely linked to elevated crime rates.\n",
    "\n",
    "The intention to use machine learning for predicting suitable locations for homeless shelters shifted due to the insufficient data on existing shelters. Instead, we employed suitability analysis, aligning with recommendations from sources such as CBS8 and the San Diego District Attorney's office, which stress the importance of shelter and treatment for reducing crime among the homeless population.\n",
    "\n",
    "By mapping out the intersections of homelessness and poverty, our analysis supports the argument for targeted interventions, such as the construction of new shelters, to address urban crime. This methodology not only validates current understandings but also introduces a practical framework for urban planning and social policy aimed at mitigating crime through addressing homelessness and poverty."
   ]
  },
  {
   "cell_type": "markdown",
   "id": "8605f064",
   "metadata": {},
   "source": [
    "## Conclusion"
   ]
  },
  {
   "cell_type": "markdown",
   "id": "2acce816",
   "metadata": {},
   "source": [
    "We indeed find a large spot where the homeless, crime, and poverty hot spots overlap."
   ]
  },
  {
   "cell_type": "markdown",
   "id": "616f1307",
   "metadata": {},
   "source": [
    "From background literature and research, it has been shown that homeless and crime in San Diego County go hand in hand, whether those experiencing homelessness is the victim or offender. According to the [CBS8](https://www.cbs8.com/article/news/crime/da-homeless-more-likely-crime-victims-and-perpetrators-sd-county/509-c01ca175-004b-483e-93b1-1b2c66afd5f1), the San Diego District Attory's office mentions that in order to reduce crimes, those experience homelessness \"need shelter and treatment in order to live human lives that are free from violence and crime\".  \n",
    "\n",
    "Thus, the blue area we found with overlap between homelessness, crime, and poverty is the area we would want to build more shelters and provide more treatement opportunities. "
   ]
  },
  {
   "cell_type": "markdown",
   "id": "ffe8d65e",
   "metadata": {},
   "source": [
    "Luckily, we also have homeless shelter data and can see how the government's current efforts to tackle homelessness is going. Let's plot the homeless shelter data and see if it aligns with what we have found."
   ]
  },
  {
   "cell_type": "code",
   "execution_count": 27,
   "id": "6814fc66",
   "metadata": {
    "scrolled": true
   },
   "outputs": [
    {
     "data": {
      "application/vnd.jupyter.widget-view+json": {
       "model_id": "234e9f5fb89f43e8976bb22e6f996bf8",
       "version_major": 2,
       "version_minor": 0
      },
      "text/plain": [
       "MapView(layout=Layout(height='400px', width='100%'))"
      ]
     },
     "metadata": {},
     "output_type": "display_data"
    },
    {
     "data": {
      "text/html": [
       "<div class=\"map-static-img-preview-4ddc0dcc-cb3c-4c9b-9713-0ca76a13d896\"><img src=\"\"></img></div>"
      ],
      "text/plain": [
       "<IPython.core.display.HTML object>"
      ]
     },
     "metadata": {},
     "output_type": "display_data"
    },
    {
     "data": {
      "text/html": [
       "<div class=\"map-html-embed-preview-4ddc0dcc-cb3c-4c9b-9713-0ca76a13d896\"></div>"
      ],
      "text/plain": [
       "<IPython.core.display.HTML object>"
      ]
     },
     "metadata": {},
     "output_type": "display_data"
    }
   ],
   "source": [
    "map_all_inter_shelters = agol.map('San Deigo')\n",
    "map_all_inter_shelters.add_layer(intersect_home_cri_pov)\n",
    "map_all_inter_shelters.add_layer(homeless_shelter)\n",
    "map_all_inter_shelters"
   ]
  },
  {
   "cell_type": "markdown",
   "id": "ea3fbf8c",
   "metadata": {},
   "source": [
    "As we can see from the map above, our results do indeed match with the actions the government is working towards as the blue overlapping area of homelessness, crime, and poverty we found have 10 homeless shelters spreaded throughout that area. Another interesting thing to note is that there is also another cluster of shelther more north even though we didn't find any hotspots overlap there. \n",
    "\n",
    "This project we carried out can prove to be an effective analysis when figuring out where to build homeless shelters or honestly any resource centers when trying to improve San Diego County."
   ]
  },
  {
   "cell_type": "code",
   "execution_count": null,
   "id": "be9d9cd2",
   "metadata": {},
   "outputs": [],
   "source": []
  }
 ],
 "metadata": {
  "kernelspec": {
   "display_name": "Python 3 (clean)",
   "language": "python",
   "name": "python3_clean"
  },
  "language_info": {
   "codemirror_mode": {
    "name": "ipython",
    "version": 3
   },
   "file_extension": ".py",
   "mimetype": "text/x-python",
   "name": "python",
   "nbconvert_exporter": "python",
   "pygments_lexer": "ipython3",
   "version": "3.9.5"
  }
 },
 "nbformat": 4,
 "nbformat_minor": 5
}
